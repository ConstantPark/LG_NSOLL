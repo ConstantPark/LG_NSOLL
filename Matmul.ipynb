{
 "cells": [
  {
   "cell_type": "code",
   "execution_count": 1,
   "id": "4e8ad738",
   "metadata": {},
   "outputs": [],
   "source": [
    "# n x n, 0 값을 가진 행렬\n",
    "def initMatrix(n):\n",
    "    return [[0 for _ in range(n)] for _ in range(n)]\n",
    "\n",
    "\n",
    "def add(M1, M2, n):\n",
    "    temp = initMatrix(n)\n",
    "    for i in range(n):\n",
    "        for j in range(n):\n",
    "            temp[i][j] = M1[i][j] + M2[i][j]\n",
    "    return temp\n",
    "\n",
    "\n",
    "def subtract(M1, M2, n):\n",
    "    temp = initMatrix(n)\n",
    "    for i in range(n):\n",
    "        for j in range(n):\n",
    "            temp[i][j] = M1[i][j] - M2[i][j]\n",
    "    return temp\n"
   ]
  },
  {
   "cell_type": "code",
   "execution_count": 15,
   "id": "4bcf16f2",
   "metadata": {},
   "outputs": [],
   "source": [
    "def strassen(A, B, n):\n",
    "    \n",
    "    # 기본 케이스 1*1을 곱하여 return\n",
    "    if n == 1:\n",
    "        C = initMatrix(1)\n",
    "        C[0][0] = A[0][0] * B[0][0]\n",
    "        return C\n",
    "    \n",
    "    # 변수 초기화\n",
    "    C = initMatrix(n)\n",
    "    k = n // 2  # 2 x 2 행렬이면 각각 1 x 1 서브 행렬임\n",
    "\n",
    "    A11 = initMatrix(k)\n",
    "    A12 = initMatrix(k)\n",
    "    A21 = initMatrix(k)\n",
    "    A22 = initMatrix(k)\n",
    "    B11 = initMatrix(k)\n",
    "    B12 = initMatrix(k)\n",
    "    B21 = initMatrix(k)\n",
    "    B22 = initMatrix(k)\n",
    "\n",
    "\n",
    "    for i in range(k):\n",
    "        for j in range(k):\n",
    "            A11[i][j] = A[i][j]\n",
    "            A12[i][j] = A[i][k + j]\n",
    "            A21[i][j] = A[k + i][j]\n",
    "            A22[i][j] = A[k + i][k + j]\n",
    "\n",
    "            B11[i][j] = B[i][j]\n",
    "            B12[i][j] = B[i][k + j]\n",
    "            B21[i][j] = B[k + i][j]\n",
    "            B22[i][j] = B[k + i][k + j]\n",
    "\n",
    "    # P값 계산        \n",
    "    P1 = strassen(A11, subtract(B12, B22, k), k)\n",
    "    P2 = strassen(add(A11, A12, k), B22, k)\n",
    "    P3 = strassen(add(A21, A22, k), B11, k)\n",
    "    P4 = strassen(A22, subtract(B21, B11, k), k)\n",
    "    P5 = strassen(add(A11, A22, k), add(B11, B22, k), k)\n",
    "    P6 = strassen(subtract(A12, A22, k), add(B21, B22, k), k)\n",
    "    P7 = strassen(subtract(A11, A21, k), add(B11, B12, k), k)\n",
    "    \n",
    "    # A*B=C 계산\n",
    "    C11 = subtract(add(add(P5, P4, k), P6, k), P2, k)\n",
    "    C12 = add(P1, P2, k)\n",
    "    C21 = add(P3, P4, k)\n",
    "    C22 = subtract(subtract(add(P5, P1, k), P3, k), P7, k)\n",
    "\n",
    "    for i in range(k):\n",
    "        for j in range(k):\n",
    "            C[i][j] = C11[i][j]\n",
    "            C[i][j + k] = C12[i][j]\n",
    "            C[k + i][j] = C21[i][j]\n",
    "            C[k + i][k + j] = C22[i][j]\n",
    "            \n",
    "    return C\n"
   ]
  },
  {
   "cell_type": "code",
   "execution_count": 16,
   "id": "f7b78473",
   "metadata": {},
   "outputs": [
    {
     "name": "stdout",
     "output_type": "stream",
     "text": [
      "[[18, 14], [62, 66]]\n"
     ]
    },
    {
     "data": {
      "text/plain": [
       "'\\n[[18, 14],\\n [62, 66]]\\n'"
      ]
     },
     "execution_count": 16,
     "metadata": {},
     "output_type": "execute_result"
    }
   ],
   "source": [
    "\n",
    "A = [[1, 3], [7, 5]]\n",
    "B = [[6, 8], [4, 2]]\n",
    "\n",
    "print(strassen(A, B, 2))\n",
    "\n",
    "\"\"\"\n",
    "[[18, 14],\n",
    " [62, 66]]\n",
    "\"\"\"\n",
    "\n",
    "# 128 x 128 행렬끼리 곱하면 약 8초 소요\n"
   ]
  },
  {
   "cell_type": "code",
   "execution_count": 29,
   "id": "ee5a68c2",
   "metadata": {},
   "outputs": [
    {
     "name": "stdout",
     "output_type": "stream",
     "text": [
      "0.13163s\n",
      "0.00041s\n"
     ]
    }
   ],
   "source": [
    "import numpy as np\n",
    "\n",
    "# 런타임 비교\n",
    "from timeit import default_timer\n",
    "\n",
    "N = 2 ** 5 # 행렬의 크기\n",
    "A = [[np.random.randint(1, 1000) for _ in range(N)] for _ in range(N)]\n",
    "B = [[np.random.randint(1, 1000) for _ in range(N)] for _ in range(N)]\n",
    "\n",
    "start = default_timer()\n",
    "result1 = strassen(A, B, N)\n",
    "print(f\"{default_timer() - start:.5f}s\")\n",
    "\n",
    "start = default_timer()\n",
    "result2 = np.dot(A,B)\n",
    "print(f\"{default_timer() - start:.5f}s\")"
   ]
  },
  {
   "cell_type": "code",
   "execution_count": null,
   "id": "9f561001",
   "metadata": {},
   "outputs": [],
   "source": []
  },
  {
   "cell_type": "code",
   "execution_count": null,
   "id": "ca7400f7",
   "metadata": {},
   "outputs": [],
   "source": []
  }
 ],
 "metadata": {
  "kernelspec": {
   "display_name": "Python 3 (ipykernel)",
   "language": "python",
   "name": "python3"
  },
  "language_info": {
   "codemirror_mode": {
    "name": "ipython",
    "version": 3
   },
   "file_extension": ".py",
   "mimetype": "text/x-python",
   "name": "python",
   "nbconvert_exporter": "python",
   "pygments_lexer": "ipython3",
   "version": "3.9.7"
  }
 },
 "nbformat": 4,
 "nbformat_minor": 5
}
